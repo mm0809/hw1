{
 "cells": [
  {
   "cell_type": "code",
   "execution_count": 5,
   "id": "placed-victorian",
   "metadata": {},
   "outputs": [],
   "source": [
    "# Part. 1\n",
    "#=======================================\n",
    "# Import module\n",
    "#  csv -- fileIO operation\n",
    "import csv\n",
    "#=======================================\n",
    "\n",
    "# Part. 2\n",
    "#=======================================\n",
    "# Read cwb weather data\n",
    "cwb_filename = 'sample_input.csv' #sample_input.csv or 108061111.csv\n",
    "data = []\n",
    "header = []\n",
    "with open(cwb_filename) as csvfile:\n",
    "   mycsv = csv.DictReader(csvfile)\n",
    "   header = mycsv.fieldnames\n",
    "   for row in mycsv:\n",
    "      data.append(row)"
   ]
  },
  {
   "cell_type": "code",
   "execution_count": 6,
   "id": "physical-german",
   "metadata": {
    "tags": []
   },
   "outputs": [
    {
     "name": "stdout",
     "output_type": "stream",
     "text": [
      "[['C0A880', 1007.65], ['C0F9A0', 1010.65], ['C0G640', 995.1], ['C0R190', 1017.95], ['C0X260', 'None']]\n"
     ]
    }
   ],
   "source": [
    "#=======================================\n",
    "\n",
    "# Part. 3\n",
    "#=======================================\n",
    "# Analyze data depend on your group and store it to target_data like:\n",
    "# Retrive all data points which station id is \"C0X260\" as a list.\n",
    "# target_data = list(filter(lambda item: item['station_id'] == 'C0X260', data))\n",
    "\n",
    "# List the target station_id in \"lexicographical order\"\n",
    "station_id_list = [\"C0A880\", \"C0F9A0\", \"C0G640\", \"C0R190\", \"C0X260\"]\n",
    "\n",
    "ans = []\n",
    "\n",
    "for station_id in station_id_list:\n",
    "    target_data = list(filter(lambda item: (item['station_id'] == station_id) and (item['PRES'] != '-99.000') and (item['PRES'] != '-999.000'), data))\n",
    "    \n",
    "    length = len(target_data)\n",
    "    if(length != 0):\n",
    "        average = sum(float(item['PRES']) for item in target_data) / length\n",
    "    else:\n",
    "        average = 'None'\n",
    "        \n",
    "    ans.append([station_id, average])\n",
    "\n",
    "#=======================================\n",
    "\n",
    "# Part. 4\n",
    "#=======================================\n",
    "# Output\n",
    "\n",
    "# Because the ans being appended by lexicographical order, don't need to sort it again.\n",
    "# ans.sort()\n",
    "print(ans)\n"
   ]
  }
 ],
 "metadata": {
  "kernelspec": {
   "display_name": "Python 3",
   "language": "python",
   "name": "python3"
  },
  "language_info": {
   "codemirror_mode": {
    "name": "ipython",
    "version": 3
   },
   "file_extension": ".py",
   "mimetype": "text/x-python",
   "name": "python",
   "nbconvert_exporter": "python",
   "pygments_lexer": "ipython3",
   "version": "3.6.9"
  }
 },
 "nbformat": 4,
 "nbformat_minor": 5
}
